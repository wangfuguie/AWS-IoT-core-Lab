{
 "cells": [
  {
   "cell_type": "code",
   "execution_count": 2,
   "metadata": {},
   "outputs": [
    {
     "name": "stderr",
     "output_type": "stream",
     "text": [
      "2024-12-28 20:45:47.172297: I metal_plugin/src/device/metal_device.cc:1154] Metal device set to: Apple M3\n",
      "2024-12-28 20:45:47.172327: I metal_plugin/src/device/metal_device.cc:296] systemMemory: 16.00 GB\n",
      "2024-12-28 20:45:47.172343: I metal_plugin/src/device/metal_device.cc:313] maxCacheSize: 5.33 GB\n",
      "2024-12-28 20:45:47.172560: I tensorflow/core/common_runtime/pluggable_device/pluggable_device_factory.cc:305] Could not identify NUMA node of platform GPU ID 0, defaulting to 0. Your kernel may not have been built with NUMA support.\n",
      "2024-12-28 20:45:47.172595: I tensorflow/core/common_runtime/pluggable_device/pluggable_device_factory.cc:271] Created TensorFlow device (/job:localhost/replica:0/task:0/device:GPU:0 with 0 MB memory) -> physical PluggableDevice (device: 0, name: METAL, pci bus id: <undefined>)\n"
     ]
    },
    {
     "ename": "NameError",
     "evalue": "name 'X_test' is not defined",
     "output_type": "error",
     "traceback": [
      "\u001b[0;31m---------------------------------------------------------------------------\u001b[0m",
      "\u001b[0;31mNameError\u001b[0m                                 Traceback (most recent call last)",
      "Cell \u001b[0;32mIn[2], line 7\u001b[0m\n\u001b[1;32m      4\u001b[0m loaded_model \u001b[38;5;241m=\u001b[39m load_model(\u001b[38;5;124m\"\u001b[39m\u001b[38;5;124mgru_model1.keras\u001b[39m\u001b[38;5;124m\"\u001b[39m)\n\u001b[1;32m      6\u001b[0m \u001b[38;5;66;03m# 測試加載的模型是否可以正確運行\u001b[39;00m\n\u001b[0;32m----> 7\u001b[0m test_predictions \u001b[38;5;241m=\u001b[39m loaded_model\u001b[38;5;241m.\u001b[39mpredict(\u001b[43mX_test\u001b[49m)\n\u001b[1;32m      8\u001b[0m \u001b[38;5;28mprint\u001b[39m(\u001b[38;5;124m\"\u001b[39m\u001b[38;5;124mPredictions from loaded model:\u001b[39m\u001b[38;5;124m\"\u001b[39m, test_predictions[:\u001b[38;5;241m5\u001b[39m])\n\u001b[1;32m     10\u001b[0m \u001b[38;5;66;03m# 將模型輸出進行二值化\u001b[39;00m\n",
      "\u001b[0;31mNameError\u001b[0m: name 'X_test' is not defined"
     ]
    }
   ],
   "source": [
    "from tensorflow.keras.models import load_model\n",
    "\n",
    "# 加載匯出的 .keras\n",
    "loaded_model = load_model(\"gru_model1.keras\")\n",
    "\n",
    "# 測試加載的模型是否可以正確運行\n",
    "test_predictions = loaded_model.predict(X_test)\n",
    "print(\"Predictions from loaded model:\", test_predictions[:5])\n",
    "\n",
    "# 將模型輸出進行二值化\n",
    "binary_predictions = (test_predictions > 0.5).astype(int)\n",
    "print(\"Binary Predictions from loaded model:\", binary_predictions[:5])\n"
   ]
  },
  {
   "cell_type": "code",
   "execution_count": 4,
   "metadata": {},
   "outputs": [
    {
     "name": "stdout",
     "output_type": "stream",
     "text": [
      "[[0.00821969]\n",
      " [0.00821969]\n",
      " [0.00171407]\n",
      " ...\n",
      " [0.00222172]\n",
      " [0.00220306]\n",
      " [0.00223553]]\n"
     ]
    }
   ],
   "source": [
    "print(predictions)"
   ]
  },
  {
   "cell_type": "code",
   "execution_count": 16,
   "metadata": {},
   "outputs": [
    {
     "name": "stdout",
     "output_type": "stream",
     "text": [
      "\u001b[1m88/88\u001b[0m \u001b[32m━━━━━━━━━━━━━━━━━━━━\u001b[0m\u001b[37m\u001b[0m \u001b[1m6s\u001b[0m 66ms/step\n",
      "Binary Predictions: [0 0 1 ... 1 1 1]\n",
      "Predicted binary values for the next 1 minute (30s intervals): [1, 1]\n"
     ]
    }
   ],
   "source": [
    "import pandas as pd\n",
    "import numpy as np\n",
    "from sklearn.preprocessing import MinMaxScaler\n",
    "from tensorflow.keras.models import load_model\n",
    "\n",
    "# 1. 設定縮放器\n",
    "scaler = MinMaxScaler(feature_range=(-1, 1))  # 確保縮放範圍與訓練一致\n",
    "\n",
    "# 2. 讀取新的感測器數據\n",
    "new_bpm_data = pd.read_csv('test_sensor_bpm (2).csv')  # 替換為你的感測器數據路徑\n",
    "\n",
    "# 3. 差分處理並去除 NaN\n",
    "new_bpm_data['Differenced_BPM'] = new_bpm_data['BPM'].diff()\n",
    "new_bpm_data = new_bpm_data.dropna(subset=['Differenced_BPM']).reset_index(drop=True)\n",
    "\n",
    "# 4. 初始化縮放器並縮放差分數據\n",
    "# 必須使用訓練集的 BPM 數據範圍來進行縮放，這裡需要你提供訓練時的數據最小值和最大值\n",
    "train_min = -1.0  # 替換為訓練數據的最小值\n",
    "train_max = 1.0   # 替換為訓練數據的最大值\n",
    "scaler.min_, scaler.scale_ = -1.0, 2 / (train_max - train_min)\n",
    "\n",
    "new_scaled_data = scaler.transform(new_bpm_data['Differenced_BPM'].values.reshape(-1, 1))\n",
    "\n",
    "# 5. 創建滑動窗口\n",
    "observation_window = 300  # 與模型訓練時一致\n",
    "X_new = []\n",
    "for i in range(len(new_scaled_data) - observation_window):\n",
    "    X_new.append(new_scaled_data[i:i + observation_window])\n",
    "\n",
    "X_new = np.array(X_new)\n",
    "\n",
    "# 6. 加載模型\n",
    "model = load_model(\"gru_model1.keras\")\n",
    "\n",
    "# 7. 批量預測\n",
    "new_predictions = model.predict(X_new)\n",
    "binary_predictions = (new_predictions > 0.5).astype(int)\n",
    "\n",
    "print(\"Binary Predictions:\", binary_predictions.flatten())\n",
    "\n",
    "# 8. 遞歸預測未來數據\n",
    "# 修改後的遞歸預測邏輯\n",
    "def predict_future_values_with_custom_interval(\n",
    "    model, initial_sequence, observation_window, steps=2, interval=30\n",
    "):\n",
    "    \"\"\"\n",
    "    使用前 observation_window 數據預測未來 steps 步，每步 interval 秒，判斷是否有異常（1: 有異常，0: 無異常）。\n",
    "    \n",
    "    :param model: 預測模型\n",
    "    :param initial_sequence: 用於預測的初始數據窗口\n",
    "    :param observation_window: 觀察窗口大小（秒）\n",
    "    :param steps: 預測未來步數\n",
    "    :param interval: 每步預測的時間間隔（秒）\n",
    "    :return: 每步是否有異常的列表\n",
    "    \"\"\"\n",
    "    predictions = []\n",
    "    current_sequence = initial_sequence.copy()\n",
    "\n",
    "    for _ in range(steps):\n",
    "        # 使用當前序列預測未來 interval 秒內的數據\n",
    "        next_prediction = model.predict(current_sequence, verbose=0)\n",
    "\n",
    "        # 檢查 interval 秒內是否有異常\n",
    "        has_anomaly = (next_prediction[:interval] > 0.5).any()  # 檢查 interval 內是否有異常\n",
    "        predictions.append(1 if has_anomaly else 0)\n",
    "\n",
    "        # 模擬新數據的到來，更新序列\n",
    "        next_value = next_prediction[0, 0]  # 使用當前預測值作為序列更新\n",
    "        current_sequence = np.append(current_sequence[:, 1:, :], [[[next_value]]], axis=1)\n",
    "\n",
    "    return predictions\n",
    "\n",
    "\n",
    "# 使用最後的滑動窗口進行預測\n",
    "initial_sequence = X_new[-1].reshape(1, observation_window, 1)  # 前 5 分鐘的數據\n",
    "future_predictions = predict_future_values_with_custom_interval(\n",
    "    model, initial_sequence, observation_window=300, steps=2, interval=30\n",
    ")\n",
    "\n",
    "print(\"Predicted binary values for the next 1 minute (30s intervals):\", future_predictions)"
   ]
  },
  {
   "cell_type": "code",
   "execution_count": null,
   "metadata": {},
   "outputs": [],
   "source": []
  }
 ],
 "metadata": {
  "kernelspec": {
   "display_name": "dl",
   "language": "python",
   "name": "python3"
  },
  "language_info": {
   "codemirror_mode": {
    "name": "ipython",
    "version": 3
   },
   "file_extension": ".py",
   "mimetype": "text/x-python",
   "name": "python",
   "nbconvert_exporter": "python",
   "pygments_lexer": "ipython3",
   "version": "3.11.10"
  }
 },
 "nbformat": 4,
 "nbformat_minor": 2
}
